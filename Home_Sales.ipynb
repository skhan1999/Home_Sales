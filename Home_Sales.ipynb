{
 "cells": [
  {
   "cell_type": "code",
   "execution_count": 22,
   "id": "6668003b",
   "metadata": {},
   "outputs": [],
   "source": [
    "# Import findspark and initialize. \n",
    "import findspark\n",
    "findspark.init()"
   ]
  },
  {
   "cell_type": "code",
   "execution_count": 23,
   "id": "3253e2af",
   "metadata": {},
   "outputs": [],
   "source": [
    "# Import packages\n",
    "from pyspark.sql import SparkSession\n",
    "import time\n",
    "\n",
    "# Create a SparkSession\n",
    "spark = SparkSession.builder.appName(\"SparkSQL\").getOrCreate()"
   ]
  },
  {
   "cell_type": "code",
   "execution_count": 7,
   "id": "d32b9457",
   "metadata": {},
   "outputs": [
    {
     "name": "stderr",
     "output_type": "stream",
     "text": [
      "                                                                                \r"
     ]
    },
    {
     "name": "stdout",
     "output_type": "stream",
     "text": [
      "+--------------------+----------+----------+------+--------+---------+-----------+--------+------+----------+----+\n",
      "|                  id|      date|date_built| price|bedrooms|bathrooms|sqft_living|sqft_lot|floors|waterfront|view|\n",
      "+--------------------+----------+----------+------+--------+---------+-----------+--------+------+----------+----+\n",
      "|f8a53099-ba1c-47d...|2022-04-08|      2016|936923|       4|        3|       3167|   11733|     2|         1|  76|\n",
      "|7530a2d8-1ae3-451...|2021-06-13|      2013|379628|       2|        2|       2235|   14384|     1|         0|  23|\n",
      "|43de979c-0bf0-4c9...|2019-04-12|      2014|417866|       2|        2|       2127|   10575|     2|         0|   0|\n",
      "|b672c137-b88c-48b...|2019-10-16|      2016|239895|       2|        2|       1631|   11149|     2|         0|   0|\n",
      "|e0726d4d-d595-407...|2022-01-08|      2017|424418|       3|        2|       2249|   13878|     2|         0|   4|\n",
      "|5aa00529-0533-46b...|2019-01-30|      2017|218712|       2|        3|       1965|   14375|     2|         0|   7|\n",
      "|131492a1-72e2-4a8...|2020-02-08|      2017|419199|       2|        3|       2062|    8876|     2|         0|   6|\n",
      "|8d54a71b-c520-44e...|2019-07-21|      2010|323956|       2|        3|       1506|   11816|     1|         0|  25|\n",
      "|e81aacfe-17fe-46b...|2020-06-16|      2016|181925|       3|        3|       2137|   11709|     2|         0|  22|\n",
      "|2ed8d509-7372-46d...|2021-08-06|      2015|258710|       3|        3|       1918|    9666|     1|         0|  25|\n",
      "|f876d86f-3c9f-42b...|2019-02-27|      2011|167864|       3|        3|       2471|   13924|     2|         0|  15|\n",
      "|0a2bd445-8508-4d8...|2021-12-30|      2014|337527|       2|        3|       1926|   12556|     1|         0|  23|\n",
      "|941bad30-eb49-4a7...|2020-05-09|      2015|229896|       3|        3|       2197|    8641|     1|         0|   3|\n",
      "|dd61eb34-6589-4c0...|2021-07-25|      2016|210247|       3|        2|       1672|   11986|     2|         0|  28|\n",
      "|f1e4cef7-d151-439...|2019-02-01|      2011|398667|       2|        3|       2331|   11356|     1|         0|   7|\n",
      "|ea620c7b-c2f7-4c6...|2021-05-31|      2011|437958|       3|        3|       2356|   11052|     1|         0|  26|\n",
      "|f233cb41-6f33-4b0...|2021-07-18|      2016|437375|       4|        3|       1704|   11721|     2|         0|  34|\n",
      "|c797ca12-52cd-4b1...|2019-06-08|      2015|288650|       2|        3|       2100|   10419|     2|         0|   7|\n",
      "|0cfe57f3-28c2-472...|2019-10-04|      2015|308313|       3|        3|       1960|    9453|     2|         0|   2|\n",
      "|4566cd2a-ac6e-435...|2019-07-15|      2016|177541|       3|        3|       2130|   10517|     2|         0|  25|\n",
      "+--------------------+----------+----------+------+--------+---------+-----------+--------+------+----------+----+\n",
      "only showing top 20 rows\n",
      "\n"
     ]
    }
   ],
   "source": [
    "# 1. Read in the AWS S3 bucket into a DataFrame.\n",
    "from pyspark import SparkFiles\n",
    "url = \"https://2u-data-curriculum-team.s3.amazonaws.com/dataviz-classroom/v1.2/22-big-data/home_sales_revised.csv\"\n",
    "spark.sparkContext.addFile(url)\n",
    "df = spark.read.csv(SparkFiles.get(\"home_sales_revised.csv\"), sep=\",\", header=True)\n",
    "df.show()"
   ]
  },
  {
   "cell_type": "code",
   "execution_count": 24,
   "id": "54c45de3",
   "metadata": {},
   "outputs": [],
   "source": [
    "# 2. Create a temporary view of the DataFrame.\n",
    "df.createOrReplaceTempView('home_sales')"
   ]
  },
  {
   "cell_type": "code",
   "execution_count": 25,
   "id": "0c78975d",
   "metadata": {},
   "outputs": [
    {
     "name": "stdout",
     "output_type": "stream",
     "text": [
      "+----------+---------+\n",
      "|date_built|avg_price|\n",
      "+----------+---------+\n",
      "|      2010|296800.75|\n",
      "|      2011| 302141.9|\n",
      "|      2012|298233.42|\n",
      "|      2013|299999.39|\n",
      "|      2014|299073.89|\n",
      "|      2015|307908.86|\n",
      "|      2016|296050.24|\n",
      "|      2017|296576.69|\n",
      "+----------+---------+\n",
      "\n"
     ]
    }
   ],
   "source": [
    "# 3. What is the average price for a four bedroom house sold in each year rounded to two decimal places?\n",
    "spark.sql(\"\"\"SELECT date_built, round(avg(price),2) as avg_price FROM home_sales \n",
    "WHERE bedrooms = '4' \n",
    "group by date_built \n",
    "order by date_built\"\"\").show()"
   ]
  },
  {
   "cell_type": "code",
   "execution_count": 26,
   "id": "840e466e",
   "metadata": {},
   "outputs": [
    {
     "name": "stdout",
     "output_type": "stream",
     "text": [
      "+----------+---------+\n",
      "|date_built|avg_price|\n",
      "+----------+---------+\n",
      "|      2010|292859.62|\n",
      "|      2011|291117.47|\n",
      "|      2012|293683.19|\n",
      "|      2013|295962.27|\n",
      "|      2014|290852.27|\n",
      "|      2015| 288770.3|\n",
      "|      2016|290555.07|\n",
      "|      2017|292676.79|\n",
      "+----------+---------+\n",
      "\n"
     ]
    }
   ],
   "source": [
    "# 4. What is the average price of a home for each year the home was built that have 3 bedrooms and 3 bathrooms rounded to two decimal places?\n",
    "spark.sql(\"\"\"SELECT date_built, round(avg(price),2) as avg_price FROM home_sales \n",
    "WHERE bedrooms = '3' AND bathrooms = '3' \n",
    "group by date_built \n",
    "order by date_built\"\"\").show()"
   ]
  },
  {
   "cell_type": "code",
   "execution_count": 27,
   "id": "83abc761",
   "metadata": {},
   "outputs": [
    {
     "name": "stdout",
     "output_type": "stream",
     "text": [
      "+----------+---------+\n",
      "|date_built|avg_price|\n",
      "+----------+---------+\n",
      "|      2010|285010.22|\n",
      "|      2011|276553.81|\n",
      "|      2012|307539.97|\n",
      "|      2013|303676.79|\n",
      "|      2014|298264.72|\n",
      "|      2015|297609.97|\n",
      "|      2016| 293965.1|\n",
      "|      2017|280317.58|\n",
      "+----------+---------+\n",
      "\n"
     ]
    }
   ],
   "source": [
    "# 5. What is the average price of a home for each year built that have 3 bedrooms, 3 bathrooms, with two floors,\n",
    "# and are greater than or equal to 2,000 square feet rounded to two decimal places?\n",
    "spark.sql(\"\"\"SELECT date_built, round(avg(price),2) as avg_price FROM home_sales \n",
    "WHERE bedrooms = '3' AND bathrooms = '3' AND floors = '2' AND sqft_living >= '2000'\n",
    "group by date_built\n",
    "order by date_built\"\"\").show()"
   ]
  },
  {
   "cell_type": "code",
   "execution_count": 28,
   "id": "dabf096a",
   "metadata": {},
   "outputs": [
    {
     "name": "stdout",
     "output_type": "stream",
     "text": [
      "+----+---------+\n",
      "|view|avg_price|\n",
      "+----+---------+\n",
      "|   0|403848.51|\n",
      "|   1|401044.25|\n",
      "|  10|401868.43|\n",
      "| 100|750932.67|\n",
      "|  11|399548.12|\n",
      "|  12|401501.32|\n",
      "|  13|398917.98|\n",
      "|  14|398570.03|\n",
      "|  15| 404673.3|\n",
      "|  16|399586.53|\n",
      "|  17|398474.49|\n",
      "|  18|399332.91|\n",
      "|  19|398953.17|\n",
      "|   2|397389.25|\n",
      "|  20|399522.81|\n",
      "|  21|399758.88|\n",
      "|  22|402022.68|\n",
      "|  23|403411.92|\n",
      "|  24|400284.92|\n",
      "|  25|401298.69|\n",
      "+----+---------+\n",
      "only showing top 20 rows\n",
      "\n",
      "--- 0.32750892639160156 seconds ---\n"
     ]
    }
   ],
   "source": [
    "# 6. What is the \"view\" rating for the average price of a home, rounded to two decimal places, where the homes are greater than\n",
    "# or equal to $350,000? Although this is a small dataset, determine the run time for this query.\n",
    "\n",
    "start_time = time.time()\n",
    "\n",
    "spark.sql(\"\"\"SELECT view, round(avg(price),2) as avg_price FROM home_sales\n",
    "WHERE price >= '350000'\n",
    "group by view\n",
    "order by view\"\"\").show()\n",
    "\n",
    "\n",
    "print(\"--- %s seconds ---\" % (time.time() - start_time))"
   ]
  },
  {
   "cell_type": "code",
   "execution_count": 29,
   "id": "4e7be29c",
   "metadata": {},
   "outputs": [
    {
     "data": {
      "text/plain": [
       "DataFrame[]"
      ]
     },
     "execution_count": 29,
     "metadata": {},
     "output_type": "execute_result"
    }
   ],
   "source": [
    "# 7. Cache the the temporary table home_sales.\n",
    "spark.sql(\"cache table home_sales\")"
   ]
  },
  {
   "cell_type": "code",
   "execution_count": 30,
   "id": "a1b7fa50",
   "metadata": {},
   "outputs": [
    {
     "data": {
      "text/plain": [
       "True"
      ]
     },
     "execution_count": 30,
     "metadata": {},
     "output_type": "execute_result"
    }
   ],
   "source": [
    "# 8. Check if the table is cached.\n",
    "spark.catalog.isCached('home_sales')"
   ]
  },
  {
   "cell_type": "code",
   "execution_count": 31,
   "id": "0f444aa3",
   "metadata": {},
   "outputs": [
    {
     "name": "stdout",
     "output_type": "stream",
     "text": [
      "+----+---------+\n",
      "|view|avg_price|\n",
      "+----+---------+\n",
      "|   0|403848.51|\n",
      "|   1|401044.25|\n",
      "|  10|401868.43|\n",
      "| 100|750932.67|\n",
      "|  11|399548.12|\n",
      "|  12|401501.32|\n",
      "|  13|398917.98|\n",
      "|  14|398570.03|\n",
      "|  15| 404673.3|\n",
      "|  16|399586.53|\n",
      "|  17|398474.49|\n",
      "|  18|399332.91|\n",
      "|  19|398953.17|\n",
      "|   2|397389.25|\n",
      "|  20|399522.81|\n",
      "|  21|399758.88|\n",
      "|  22|402022.68|\n",
      "|  23|403411.92|\n",
      "|  24|400284.92|\n",
      "|  25|401298.69|\n",
      "+----+---------+\n",
      "only showing top 20 rows\n",
      "\n",
      "--- 0.25339293479919434 seconds ---\n"
     ]
    }
   ],
   "source": [
    "# 9. Using the cached data, run the query that filters out the view ratings with average price \n",
    "#  greater than or equal to $350,000. Determine the runtime and compare it to uncached runtime.\n",
    "\n",
    "start_time = time.time()\n",
    "\n",
    "spark.sql(\"\"\"SELECT view, round(avg(price),2) as avg_price FROM home_sales\n",
    "WHERE price >= '350000'\n",
    "group by view\n",
    "order by view\"\"\").show()\n",
    "\n",
    "print(\"--- %s seconds ---\" % (time.time() - start_time))"
   ]
  },
  {
   "cell_type": "code",
   "execution_count": 32,
   "id": "c45322fc",
   "metadata": {},
   "outputs": [
    {
     "name": "stderr",
     "output_type": "stream",
     "text": [
      "                                                                                \r"
     ]
    }
   ],
   "source": [
    "# 10. Partition by the \"date_built\" field on the formatted parquet home sales data \n",
    "df.write.partitionBy(\"date_built\").mode(\"overwrite\").parquet(\"home_sales_partitioned\")"
   ]
  },
  {
   "cell_type": "code",
   "execution_count": 33,
   "id": "3e079f04",
   "metadata": {},
   "outputs": [],
   "source": [
    "# 11. Read the parquet formatted data.\n",
    "p_df=spark.read.parquet('home_sales_partitioned')"
   ]
  },
  {
   "cell_type": "code",
   "execution_count": 34,
   "id": "5b763ff2",
   "metadata": {},
   "outputs": [],
   "source": [
    "# 12. Create a temporary table for the parquet data.\n",
    "p_df.createOrReplaceTempView('p_home_sales_df')"
   ]
  },
  {
   "cell_type": "code",
   "execution_count": 35,
   "id": "f93c0a1c",
   "metadata": {},
   "outputs": [
    {
     "name": "stdout",
     "output_type": "stream",
     "text": [
      "+------+---------+\n",
      "|Rating|Avg_Price|\n",
      "+------+---------+\n",
      "|     0|403848.51|\n",
      "|     1|401044.25|\n",
      "|    10|401868.43|\n",
      "|   100|1026669.5|\n",
      "|    11|399548.12|\n",
      "|    12|401501.32|\n",
      "|    13|398917.98|\n",
      "|    14|398570.03|\n",
      "|    15| 404673.3|\n",
      "|    16|399586.53|\n",
      "|    17|398474.49|\n",
      "|    18|399332.91|\n",
      "|    19|398953.17|\n",
      "|     2|397389.25|\n",
      "|    20|399522.81|\n",
      "|    21|399758.88|\n",
      "|    22|402022.68|\n",
      "|    23|403411.92|\n",
      "|    24|400284.92|\n",
      "|    25|401298.69|\n",
      "+------+---------+\n",
      "only showing top 20 rows\n",
      "\n",
      "--- 0.5361959934234619 seconds ---\n"
     ]
    }
   ],
   "source": [
    "# 13. Run the query that filters out the view ratings with average price of greater than or equal to $350,000 \n",
    "# with the parquet DataFrame. Round your average to two decimal places. \n",
    "# Determine the runtime and compare it to the cached version.\n",
    "\n",
    "start_time = time.time()\n",
    "\n",
    "spark.sql(\"\"\" SELECT view AS Rating,ROUND(AVG(price),2) AS Avg_Price\n",
    "        FROM p_home_sales_df\n",
    "        WHERE price >= 350000\n",
    "        GROUP BY view\n",
    "        ORDER BY view\n",
    "        \"\"\").show()\n",
    "\n",
    "\n",
    "print(\"--- %s seconds ---\" % (time.time() - start_time))"
   ]
  },
  {
   "cell_type": "code",
   "execution_count": 36,
   "id": "d5412a03",
   "metadata": {},
   "outputs": [
    {
     "data": {
      "text/plain": [
       "DataFrame[]"
      ]
     },
     "execution_count": 36,
     "metadata": {},
     "output_type": "execute_result"
    }
   ],
   "source": [
    "# 14. Uncache the home_sales temporary table.\n",
    "spark.sql(\"uncache table home_sales\")"
   ]
  },
  {
   "cell_type": "code",
   "execution_count": 37,
   "id": "43312317",
   "metadata": {},
   "outputs": [
    {
     "name": "stdout",
     "output_type": "stream",
     "text": [
      "all clear\n"
     ]
    }
   ],
   "source": [
    "# 15. Check if the home_sales is no longer cached\n",
    "if spark.catalog.isCached(\"home_sales\"):\n",
    "  print(\"a table is still cached\")\n",
    "else:\n",
    "  print(\"all clear\")"
   ]
  }
 ],
 "metadata": {
  "kernelspec": {
   "display_name": "Python 3 (ipykernel)",
   "language": "python",
   "name": "python3"
  },
  "language_info": {
   "codemirror_mode": {
    "name": "ipython",
    "version": 3
   },
   "file_extension": ".py",
   "mimetype": "text/x-python",
   "name": "python",
   "nbconvert_exporter": "python",
   "pygments_lexer": "ipython3",
   "version": "3.9.13"
  }
 },
 "nbformat": 4,
 "nbformat_minor": 5
}
